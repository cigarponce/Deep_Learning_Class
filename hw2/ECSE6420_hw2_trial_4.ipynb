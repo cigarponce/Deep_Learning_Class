{
 "cells": [
  {
   "cell_type": "code",
   "execution_count": 1,
   "id": "efc5e003-f5e0-49ee-8383-cb9346d31f5d",
   "metadata": {},
   "outputs": [
    {
     "name": "stdout",
     "output_type": "stream",
     "text": [
      "WARNING:tensorflow:From C:\\ProgramData\\anaconda3\\envs\\dlenv\\Lib\\site-packages\\keras\\src\\losses.py:2976: The name tf.losses.sparse_softmax_cross_entropy is deprecated. Please use tf.compat.v1.losses.sparse_softmax_cross_entropy instead.\n",
      "\n"
     ]
    }
   ],
   "source": [
    "# Disable warnings in the notebook to maintain clean output cells\n",
    "import warnings\n",
    "warnings.filterwarnings('ignore')\n",
    "\n",
    "# Import necessary libraries\n",
    "import numpy as np\n",
    "import pandas as pd\n",
    "import matplotlib.pyplot as plt\n",
    "import seaborn as sns\n",
    "import os\n",
    "import cv2\n",
    "import zipfile\n",
    "import random\n",
    "# import albumentations\n",
    "import subprocess\n",
    "from sklearn.model_selection import train_test_split\n",
    "from keras.preprocessing.image import ImageDataGenerator\n",
    "from tensorflow.keras.applications import ResNet50V2\n",
    "from tensorflow.keras.applications.inception_v3 import InceptionV3\n",
    "from tensorflow.keras.applications import MobileNetV2\n",
    "from tensorflow.keras.models import Model\n",
    "from tensorflow.keras.layers import Dense, Dropout, GlobalAveragePooling2D, Input\n",
    "from tensorflow.keras.optimizers import Adam\n",
    "from keras.utils import plot_model\n",
    "from tensorflow.keras.callbacks import ReduceLROnPlateau, EarlyStopping\n",
    "from tensorflow.keras.applications.resnet_v2 import preprocess_input as resnet_preprocess_input\n",
    "from tensorflow.keras.applications.inception_v3 import preprocess_input as inceptionv3_preprocess_input\n",
    "from tensorflow.keras.applications.mobilenet_v2 import preprocess_input as mobilenetv2_preprocess_input\n",
    "from tensorflow.keras.models import load_model\n",
    "from sklearn.svm import SVC\n",
    "from sklearn.decomposition import PCA\n",
    "from sklearn.metrics import accuracy_score\n",
    "from joblib import dump\n",
    "from IPython.display import FileLink, display"
   ]
  },
  {
   "cell_type": "code",
   "execution_count": 2,
   "id": "9a8bb3d0-74d0-4f29-87c1-06ed993f83f8",
   "metadata": {},
   "outputs": [],
   "source": [
    "# Configure the visual appearance of Seaborn plots\n",
    "sns.set(rc={'axes.facecolor': 'gainsboro'}, style='darkgrid')"
   ]
  },
  {
   "cell_type": "code",
   "execution_count": 3,
   "id": "28db9672-e345-40f3-a20a-258b7fdfefe0",
   "metadata": {},
   "outputs": [
    {
     "ename": "ZeroDivisionError",
     "evalue": "division by zero",
     "output_type": "error",
     "traceback": [
      "\u001b[1;31m---------------------------------------------------------------------------\u001b[0m",
      "\u001b[1;31mZeroDivisionError\u001b[0m                         Traceback (most recent call last)",
      "Cell \u001b[1;32mIn[3], line 17\u001b[0m\n\u001b[0;32m     15\u001b[0m \u001b[38;5;66;03m# Calculate the percentages\u001b[39;00m\n\u001b[0;32m     16\u001b[0m total_images \u001b[38;5;241m=\u001b[39m cat_count \u001b[38;5;241m+\u001b[39m dog_count\n\u001b[1;32m---> 17\u001b[0m cat_percentage \u001b[38;5;241m=\u001b[39m (\u001b[43mcat_count\u001b[49m\u001b[43m \u001b[49m\u001b[38;5;241;43m/\u001b[39;49m\u001b[43m \u001b[49m\u001b[43mtotal_images\u001b[49m) \u001b[38;5;241m*\u001b[39m \u001b[38;5;241m100\u001b[39m\n\u001b[0;32m     18\u001b[0m dog_percentage \u001b[38;5;241m=\u001b[39m (dog_count \u001b[38;5;241m/\u001b[39m total_images) \u001b[38;5;241m*\u001b[39m \u001b[38;5;241m100\u001b[39m\n\u001b[0;32m     20\u001b[0m \u001b[38;5;66;03m# Plotting\u001b[39;00m\n",
      "\u001b[1;31mZeroDivisionError\u001b[0m: division by zero"
     ]
    }
   ],
   "source": [
    "# After extracting, specify the directory of the actual images\n",
    "actual_extracted_path = os.path.join(r'C:\\Users\\cig79850\\Downloads\\Kaggle_CatsVSDogs\\kagglecatsanddogs_3367a\\PetImages')\n",
    "\n",
    "# List all filenames in the actual extracted directory\n",
    "filenames = os.listdir(actual_extracted_path)\n",
    "\n",
    "# Separate filenames into cats and dogs\n",
    "cat_images = [filename for filename in filenames if \"cat\" in filename]\n",
    "dog_images = [filename for filename in filenames if \"dog\" in filename]\n",
    "\n",
    "# Get the count of each class\n",
    "cat_count = len(cat_images)\n",
    "dog_count = len(dog_images)\n",
    "\n",
    "# Calculate the percentages\n",
    "total_images = cat_count + dog_count\n",
    "cat_percentage = (cat_count / total_images) * 100\n",
    "dog_percentage = (dog_count / total_images) * 100\n",
    "\n",
    "# Plotting\n",
    "labels = ['Cats', 'Dogs']\n",
    "counts = [cat_count, dog_count]\n",
    "percentages = [cat_percentage, dog_percentage]\n",
    "\n",
    "# Set the figure size\n",
    "plt.figure(figsize=(15, 4))\n",
    "\n",
    "# Create a horizontal bar plot\n",
    "ax = sns.barplot(y=labels, x=counts, orient='h', color='#33312b')\n",
    "\n",
    "# Set x-axis interval\n",
    "ax.set_xticks([0, 15000])\n",
    "\n",
    "# Annotate each bar with the count and percentage\n",
    "for i, p in enumerate(ax.patches):\n",
    "    width = p.get_width()\n",
    "    ax.text(width + 100, p.get_y() + p.get_height()/2., \n",
    "            '{:1.2f}% ({})'.format(percentages[i], counts[i]),\n",
    "            va=\"center\", fontsize=15)\n",
    "    \n",
    "# Set the x-label for the plot\n",
    "plt.xlabel('Number of Images', fontsize=14)\n",
    "\n",
    "# Set the title and show the plot\n",
    "plt.title(\"Number of images per class\", fontsize=18)\n",
    "plt.show()"
   ]
  },
  {
   "cell_type": "code",
   "execution_count": null,
   "id": "92652df8-973b-4e8d-becd-87df3fb5cc1c",
   "metadata": {},
   "outputs": [],
   "source": []
  }
 ],
 "metadata": {
  "kernelspec": {
   "display_name": "Python 3 (ipykernel)",
   "language": "python",
   "name": "python3"
  },
  "language_info": {
   "codemirror_mode": {
    "name": "ipython",
    "version": 3
   },
   "file_extension": ".py",
   "mimetype": "text/x-python",
   "name": "python",
   "nbconvert_exporter": "python",
   "pygments_lexer": "ipython3",
   "version": "3.11.7"
  }
 },
 "nbformat": 4,
 "nbformat_minor": 5
}
